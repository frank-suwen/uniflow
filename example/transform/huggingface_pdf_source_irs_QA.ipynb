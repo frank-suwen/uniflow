{
 "cells": [
  {
   "cell_type": "markdown",
   "id": "7cbc4c4a",
   "metadata": {},
   "source": [
    "# Example of generating QAs for IRS\n",
    "In this example, we will show you how to generate question-answers (QAs) from a pdf using Huggingface's models via `uniflow`'s [OpenAIJsonModelFlow](https://github.com/CambioML/uniflow/blob/main/uniflow/flow/model_flow.py#L125).\n",
    "\n",
    "For this example, we're using a [10K from Nike](https://investors.nike.com/investors/news-events-and-reports/).\n",
    "\n",
    "### Before running the code\n",
    "\n",
    "You will need to `uniflow` conda environment to run this notebook. You can set up the environment following the instruction: https://github.com/CambioML/uniflow/tree/main#installation.\n",
    "\n",
    "Next, you will need a valid [OpenAI API key](https://platform.openai.com/api-keys) to run the code. Once you have the key, set it as the environment variable `OPENAI_API_KEY` within a `.env` file in the root directory of this repository. For more details, see this [instruction](https://github.com/CambioML/uniflow/tree/main#api-keys)\n",
    "\n",
    "Finally, we are storing the Nike 10K in the `data\\raw_input` directory as \"nike-10k-2023.pdf\". You can download the file from [here](https://s1.q4cdn.com/806093406/files/doc_downloads/2023/414759-1-_5_Nike-NPS-Combo_Form-10-K_WR.pdf)."
   ]
  },
  {
   "cell_type": "markdown",
   "metadata": {},
   "source": [
    "### Update system path"
   ]
  },
  {
   "cell_type": "code",
   "execution_count": 1,
   "metadata": {},
   "outputs": [],
   "source": [
    "%reload_ext autoreload\n",
    "%autoreload 2\n",
    "\n",
    "import sys\n",
    "\n",
    "sys.path.append(\".\")\n",
    "sys.path.append(\"..\")\n",
    "sys.path.append(\"../..\")"
   ]
  },
  {
   "cell_type": "markdown",
   "metadata": {},
   "source": [
    "### Install helper packages"
   ]
  },
  {
   "cell_type": "code",
   "execution_count": 2,
   "metadata": {},
   "outputs": [
    {
     "name": "stdout",
     "output_type": "stream",
     "text": [
      "Requirement already satisfied: langchain in /opt/conda/envs/uniflow/lib/python3.10/site-packages (0.0.352)\n",
      "Requirement already satisfied: pandas in /opt/conda/envs/uniflow/lib/python3.10/site-packages (2.1.4)\n",
      "Requirement already satisfied: pypdf in /opt/conda/envs/uniflow/lib/python3.10/site-packages (3.17.3)\n",
      "Requirement already satisfied: PyYAML>=5.3 in /opt/conda/envs/uniflow/lib/python3.10/site-packages (from langchain) (6.0.1)\n",
      "Requirement already satisfied: SQLAlchemy<3,>=1.4 in /opt/conda/envs/uniflow/lib/python3.10/site-packages (from langchain) (2.0.23)\n",
      "Requirement already satisfied: aiohttp<4.0.0,>=3.8.3 in /opt/conda/envs/uniflow/lib/python3.10/site-packages (from langchain) (3.9.1)\n",
      "Requirement already satisfied: async-timeout<5.0.0,>=4.0.0 in /opt/conda/envs/uniflow/lib/python3.10/site-packages (from langchain) (4.0.3)\n",
      "Requirement already satisfied: dataclasses-json<0.7,>=0.5.7 in /opt/conda/envs/uniflow/lib/python3.10/site-packages (from langchain) (0.6.3)\n",
      "Requirement already satisfied: jsonpatch<2.0,>=1.33 in /opt/conda/envs/uniflow/lib/python3.10/site-packages (from langchain) (1.33)\n",
      "Requirement already satisfied: langchain-community<0.1,>=0.0.2 in /opt/conda/envs/uniflow/lib/python3.10/site-packages (from langchain) (0.0.6)\n",
      "Requirement already satisfied: langchain-core<0.2,>=0.1 in /opt/conda/envs/uniflow/lib/python3.10/site-packages (from langchain) (0.1.3)\n",
      "Requirement already satisfied: langsmith<0.1.0,>=0.0.70 in /opt/conda/envs/uniflow/lib/python3.10/site-packages (from langchain) (0.0.75)\n",
      "Requirement already satisfied: numpy<2,>=1 in /opt/conda/envs/uniflow/lib/python3.10/site-packages (from langchain) (1.26.2)\n",
      "Requirement already satisfied: pydantic<3,>=1 in /opt/conda/envs/uniflow/lib/python3.10/site-packages (from langchain) (2.5.3)\n",
      "Requirement already satisfied: requests<3,>=2 in /opt/conda/envs/uniflow/lib/python3.10/site-packages (from langchain) (2.31.0)\n",
      "Requirement already satisfied: tenacity<9.0.0,>=8.1.0 in /opt/conda/envs/uniflow/lib/python3.10/site-packages (from langchain) (8.2.3)\n",
      "Requirement already satisfied: python-dateutil>=2.8.2 in /opt/conda/envs/uniflow/lib/python3.10/site-packages (from pandas) (2.8.2)\n",
      "Requirement already satisfied: pytz>=2020.1 in /opt/conda/envs/uniflow/lib/python3.10/site-packages (from pandas) (2023.3.post1)\n",
      "Requirement already satisfied: tzdata>=2022.1 in /opt/conda/envs/uniflow/lib/python3.10/site-packages (from pandas) (2023.3)\n",
      "Requirement already satisfied: attrs>=17.3.0 in /opt/conda/envs/uniflow/lib/python3.10/site-packages (from aiohttp<4.0.0,>=3.8.3->langchain) (23.1.0)\n",
      "Requirement already satisfied: multidict<7.0,>=4.5 in /opt/conda/envs/uniflow/lib/python3.10/site-packages (from aiohttp<4.0.0,>=3.8.3->langchain) (6.0.4)\n",
      "Requirement already satisfied: yarl<2.0,>=1.0 in /opt/conda/envs/uniflow/lib/python3.10/site-packages (from aiohttp<4.0.0,>=3.8.3->langchain) (1.9.4)\n",
      "Requirement already satisfied: frozenlist>=1.1.1 in /opt/conda/envs/uniflow/lib/python3.10/site-packages (from aiohttp<4.0.0,>=3.8.3->langchain) (1.4.1)\n",
      "Requirement already satisfied: aiosignal>=1.1.2 in /opt/conda/envs/uniflow/lib/python3.10/site-packages (from aiohttp<4.0.0,>=3.8.3->langchain) (1.3.1)\n",
      "Requirement already satisfied: marshmallow<4.0.0,>=3.18.0 in /opt/conda/envs/uniflow/lib/python3.10/site-packages (from dataclasses-json<0.7,>=0.5.7->langchain) (3.20.1)\n",
      "Requirement already satisfied: typing-inspect<1,>=0.4.0 in /opt/conda/envs/uniflow/lib/python3.10/site-packages (from dataclasses-json<0.7,>=0.5.7->langchain) (0.9.0)\n",
      "Requirement already satisfied: jsonpointer>=1.9 in /opt/conda/envs/uniflow/lib/python3.10/site-packages (from jsonpatch<2.0,>=1.33->langchain) (2.4)\n",
      "Requirement already satisfied: anyio<5,>=3 in /opt/conda/envs/uniflow/lib/python3.10/site-packages (from langchain-core<0.2,>=0.1->langchain) (4.2.0)\n",
      "Requirement already satisfied: packaging<24.0,>=23.2 in /opt/conda/envs/uniflow/lib/python3.10/site-packages (from langchain-core<0.2,>=0.1->langchain) (23.2)\n",
      "Requirement already satisfied: annotated-types>=0.4.0 in /opt/conda/envs/uniflow/lib/python3.10/site-packages (from pydantic<3,>=1->langchain) (0.6.0)\n",
      "Requirement already satisfied: pydantic-core==2.14.6 in /opt/conda/envs/uniflow/lib/python3.10/site-packages (from pydantic<3,>=1->langchain) (2.14.6)\n",
      "Requirement already satisfied: typing-extensions>=4.6.1 in /opt/conda/envs/uniflow/lib/python3.10/site-packages (from pydantic<3,>=1->langchain) (4.9.0)\n",
      "Requirement already satisfied: six>=1.5 in /opt/conda/envs/uniflow/lib/python3.10/site-packages (from python-dateutil>=2.8.2->pandas) (1.16.0)\n",
      "Requirement already satisfied: charset-normalizer<4,>=2 in /opt/conda/envs/uniflow/lib/python3.10/site-packages (from requests<3,>=2->langchain) (3.3.2)\n",
      "Requirement already satisfied: idna<4,>=2.5 in /opt/conda/envs/uniflow/lib/python3.10/site-packages (from requests<3,>=2->langchain) (3.6)\n",
      "Requirement already satisfied: urllib3<3,>=1.21.1 in /opt/conda/envs/uniflow/lib/python3.10/site-packages (from requests<3,>=2->langchain) (2.1.0)\n",
      "Requirement already satisfied: certifi>=2017.4.17 in /opt/conda/envs/uniflow/lib/python3.10/site-packages (from requests<3,>=2->langchain) (2023.11.17)\n",
      "Requirement already satisfied: greenlet!=0.4.17 in /opt/conda/envs/uniflow/lib/python3.10/site-packages (from SQLAlchemy<3,>=1.4->langchain) (3.0.3)\n",
      "Requirement already satisfied: sniffio>=1.1 in /opt/conda/envs/uniflow/lib/python3.10/site-packages (from anyio<5,>=3->langchain-core<0.2,>=0.1->langchain) (1.3.0)\n",
      "Requirement already satisfied: exceptiongroup>=1.0.2 in /opt/conda/envs/uniflow/lib/python3.10/site-packages (from anyio<5,>=3->langchain-core<0.2,>=0.1->langchain) (1.2.0)\n",
      "Requirement already satisfied: mypy-extensions>=0.3.0 in /opt/conda/envs/uniflow/lib/python3.10/site-packages (from typing-inspect<1,>=0.4.0->dataclasses-json<0.7,>=0.5.7->langchain) (1.0.0)\n"
     ]
    }
   ],
   "source": [
    "!{sys.executable} -m pip install langchain pandas pypdf"
   ]
  },
  {
   "cell_type": "markdown",
   "metadata": {},
   "source": [
    "### Import Dependency"
   ]
  },
  {
   "cell_type": "code",
   "execution_count": 3,
   "id": "8d84dd70",
   "metadata": {},
   "outputs": [
    {
     "name": "stderr",
     "output_type": "stream",
     "text": [
      "/opt/conda/envs/uniflow/lib/python3.10/site-packages/tqdm/auto.py:21: TqdmWarning: IProgress not found. Please update jupyter and ipywidgets. See https://ipywidgets.readthedocs.io/en/stable/user_install.html\n",
      "  from .autonotebook import tqdm as notebook_tqdm\n"
     ]
    },
    {
     "data": {
      "text/plain": [
       "False"
      ]
     },
     "execution_count": 3,
     "metadata": {},
     "output_type": "execute_result"
    }
   ],
   "source": [
    "from dotenv import load_dotenv\n",
    "import os\n",
    "import pandas as pd\n",
    "from uniflow.flow.client import TransformClient\n",
    "from uniflow.flow.config import TransformHuggingFaceConfig\n",
    "from uniflow.op.model.model_config import HuggingfaceModelConfig\n",
    "from langchain.document_loaders import PyPDFLoader\n",
    "from uniflow.op.prompt_schema import Context, GuidedPrompt\n",
    "\n",
    "# from uniflow.node import Node\n",
    "# from uniflow.op.extract.load.pdf_op import ExtractPDFOp\n",
    "# from uniflow.op.model.llm_preprocessor import LLMDataPreprocessor\n",
    "\n",
    "from uniflow.flow.config import ExtractPDFConfig\n",
    "from uniflow.op.model.model_config import NougatModelConfig\n",
    "# from uniflow.flow.client import ExtractClient\n",
    "\n",
    "from uniflow.op.extract.split.markdown_header_splitter import MarkdownHeaderSplitter\n",
    "\n",
    "# from uniflow.op.extract.split.splitter_factory import SplitterOpsFactory\n",
    "from uniflow.op.extract.split.constants import MARKDOWN_HEADER_SPLITTER\n",
    "\n",
    "from uniflow.pipeline import MultiFlowsPipeline\n",
    "from uniflow.flow.config import PipelineConfig\n",
    "\n",
    "load_dotenv()\n"
   ]
  },
  {
   "cell_type": "markdown",
   "id": "cb677037",
   "metadata": {},
   "source": [
    "### Prepare the input data\n",
    "First, we need to pre-process the PDF to get text chunks that we can feed into the model. We will use `PyPDFLoader` from langchain."
   ]
  },
  {
   "cell_type": "code",
   "execution_count": 4,
   "id": "a707ef78",
   "metadata": {},
   "outputs": [],
   "source": [
    "pdf_file = \"IRS_2023.pdf\""
   ]
  },
  {
   "cell_type": "markdown",
   "id": "4b177df1",
   "metadata": {},
   "source": [
    "##### Set current directory and input data directory."
   ]
  },
  {
   "cell_type": "code",
   "execution_count": 5,
   "id": "092b355a",
   "metadata": {},
   "outputs": [],
   "source": [
    "dir_cur = os.getcwd()\n",
    "input_file = os.path.join(f\"{dir_cur}/data/raw_input/\", pdf_file)"
   ]
  },
  {
   "cell_type": "markdown",
   "id": "7e90b269",
   "metadata": {},
   "source": [
    "#### Load the pdf using Nougat"
   ]
  },
  {
   "cell_type": "code",
   "execution_count": 6,
   "id": "63e9a7f7",
   "metadata": {},
   "outputs": [],
   "source": [
    "data = [\n",
    "    {\"filename\": input_file},\n",
    "]"
   ]
  },
  {
   "cell_type": "code",
   "execution_count": 7,
   "id": "9ddba5ea",
   "metadata": {},
   "outputs": [],
   "source": [
    "extract_config = ExtractPDFConfig(\n",
    "    model_config=NougatModelConfig(\n",
    "        model_name = \"0.1.0-small\",\n",
    "        batch_size = 1 # When batch_size>1, nougat will run on CUDA, otherwise it will run on CPU\n",
    "    ),\n",
    "    splitter=MARKDOWN_HEADER_SPLITTER,\n",
    ")\n"
   ]
  },
  {
   "cell_type": "markdown",
   "id": "efc1aa41",
   "metadata": {},
   "source": [
    "#### Set up prompt"
   ]
  },
  {
   "cell_type": "code",
   "execution_count": 8,
   "id": "52150876",
   "metadata": {},
   "outputs": [],
   "source": [
    "guided_prompt = GuidedPrompt(\n",
    "    instruction=\"Generate Q&A based on the context.\",\n",
    "    examples=[\n",
    "        Context(\n",
    "            context=\"In 1948, Claude E. Shannon published A Mathematical Theory of\\nCommunication (Shannon, 1948) establishing the theory of\\ninformation. In his article, Shannon introduced the concept of\\ninformation entropy for the first time. We will begin our journey here.\",\n",
    "            question=\"Who published A Mathematical Theory of Communication in 1948?\",\n",
    "            answer=\"Claude E. Shannon.\",\n",
    "        ),\n",
    "])"
   ]
  },
  {
   "cell_type": "code",
   "execution_count": 8,
   "id": "8c021eb3",
   "metadata": {},
   "outputs": [],
   "source": [
    "# guided_prompt = GuidedPrompt(\n",
    "#     instruction=\"Generate 1 question and the corresponding answers based on the context, following the JSON format which Question and Answewr as two necessary keys. Calling output['context'], output['question'] and output['answer'] should return the corresponding context, question, and answer.\",\n",
    "#     examples=[]\n",
    "# )"
   ]
  },
  {
   "cell_type": "markdown",
   "metadata": {},
   "source": [
    "### Use LLM to generate data\n",
    "\n",
    "In this example, we will use the [OpenAIModelConfig](https://github.com/CambioML/uniflow/blob/main/uniflow/model/config.py#L17)'s default LLM to generate questions and answers.\n",
    "\n",
    "Here, we pass in our `guided_prompt` to the `OpenAIConfig` to use our customized instructions and examples, instead of the `uniflow` default ones.\n",
    "\n",
    "We also want to get the response in the `json` format instead of the `text` default, so we set the `response_format` to `json_object`."
   ]
  },
  {
   "cell_type": "code",
   "execution_count": 9,
   "id": "551d351d",
   "metadata": {},
   "outputs": [],
   "source": [
    "transform_config = TransformHuggingFaceConfig(\n",
    "    guided_prompt_template=guided_prompt,\n",
    "    model_config=HuggingfaceModelConfig(),\n",
    ")"
   ]
  },
  {
   "cell_type": "code",
   "execution_count": 10,
   "id": "574dd76f",
   "metadata": {},
   "outputs": [
    {
     "name": "stderr",
     "output_type": "stream",
     "text": [
      "/opt/conda/envs/uniflow/lib/python3.10/site-packages/torch/functional.py:504: UserWarning: torch.meshgrid: in an upcoming release, it will be required to pass the indexing argument. (Triggered internally at ../aten/src/ATen/native/TensorShape.cpp:3526.)\n",
      "  return _VF.meshgrid(tensors, **kwargs)  # type: ignore[attr-defined]\n",
      "Loading checkpoint shards: 100%|██████████| 2/2 [00:04<00:00,  2.20s/it]\n",
      "  0%|          | 0/1 [00:00<?, ?it/s]"
     ]
    },
    {
     "name": "stdout",
     "output_type": "stream",
     "text": [
      "INFO: likely hallucinated title at the end of the page: ## Costs You Can Deduct or Capitalize Page 27\n"
     ]
    },
    {
     "name": "stderr",
     "output_type": "stream",
     "text": [
      "100%|██████████| 1/1 [08:36<00:00, 516.51s/it]\n",
      "  0%|          | 0/197 [00:00<?, ?it/s]/opt/conda/envs/uniflow/lib/python3.10/site-packages/bitsandbytes/nn/modules.py:226: UserWarning: Input type into Linear4bit is torch.float16, but bnb_4bit_compute_type=torch.float32 (default). This will lead to slow inference or training speed.\n",
      "  warnings.warn(f'Input type into Linear4bit is torch.float16, but bnb_4bit_compute_type=torch.float32 (default). This will lead to slow inference or training speed.')\n",
      "  5%|▌         | 10/197 [01:05<14:03,  4.51s/it]/opt/conda/envs/uniflow/lib/python3.10/site-packages/transformers/pipelines/base.py:1101: UserWarning: You seem to be using the pipelines sequentially on GPU. In order to maximize efficiency please use a dataset\n",
      "  warnings.warn(\n",
      "100%|██████████| 197/197 [36:50<00:00, 11.22s/it] \n"
     ]
    }
   ],
   "source": [
    "p = MultiFlowsPipeline(PipelineConfig(\n",
    "    extract_config=extract_config,\n",
    "    transform_config=transform_config,\n",
    "))\n",
    "output = p.run(data)"
   ]
  },
  {
   "cell_type": "code",
   "execution_count": 128,
   "id": "7d80379b",
   "metadata": {},
   "outputs": [],
   "source": [
    "# output"
   ]
  },
  {
   "cell_type": "markdown",
   "metadata": {},
   "source": [
    "Now we call the `run` method on the `client` object to execute the question-answer generation operation on the data shown above."
   ]
  },
  {
   "cell_type": "markdown",
   "metadata": {},
   "source": [
    "### Process the output\n",
    "\n",
    "Let's take a look of the generated output. We need to do a little postprocessing on the raw output."
   ]
  },
  {
   "cell_type": "code",
   "execution_count": 104,
   "id": "30dea416",
   "metadata": {},
   "outputs": [
    {
     "name": "stdout",
     "output_type": "stream",
     "text": [
      "197\n"
     ]
    }
   ],
   "source": [
    "print(len(output[0]))"
   ]
  },
  {
   "cell_type": "code",
   "execution_count": 130,
   "id": "58f7c47c",
   "metadata": {},
   "outputs": [],
   "source": [
    "# Extracting context, question, and answer into a DataFrame\n",
    "contexts = []\n",
    "questions = []\n",
    "answers = []"
   ]
  },
  {
   "cell_type": "code",
   "execution_count": 131,
   "id": "83bc2ba4",
   "metadata": {},
   "outputs": [
    {
     "name": "stdout",
     "output_type": "stream",
     "text": [
      "121\n",
      "121\n",
      "121\n"
     ]
    }
   ],
   "source": [
    "for item in output[0]:\n",
    "    for i in item.get('output', []):\n",
    "        for response in i.get('response', []):\n",
    "            parts = response.split('\\n')\n",
    "            response_dict = {}\n",
    "            last_key = None\n",
    "\n",
    "            for part in parts:\n",
    "                if \":\" in part:\n",
    "                    # Split on the first colon, regardless of whether there's a space after it\n",
    "                    key, value = part.split(\":\", 1)\n",
    "                    key = key.strip()  \n",
    "                    value = value.strip()  \n",
    "                    response_dict[key] = value\n",
    "                    last_key = key\n",
    "                elif last_key is not None:\n",
    "                    response_dict[last_key] += \" \" + part\n",
    "            \n",
    "            if any(key not in response_dict for key in ['context', 'question', 'answer']):\n",
    "                # print(\"[WARNING] Missing context, question or answer in response, skipping:\\n\", response)\n",
    "                continue\n",
    "            if \"Claude E. Shannon\" in response_dict['answer']:\n",
    "                # print(\"[WARNING] Used example context, skipping:\\n\", response_dict[\"context\"])\n",
    "                continue\n",
    "            contexts.append(response_dict['context'])\n",
    "            questions.append(response_dict['question'])\n",
    "            answers.append(response_dict['answer'])\n",
    "\n",
    "pd.set_option('display.max_colwidth', None)\n",
    "pd.set_option('display.width', 1000)\n",
    "\n",
    "print(len(contexts))\n",
    "print(len(questions))\n",
    "print(len(answers))\n",
    "\n",
    "df = pd.DataFrame({\n",
    "    'Context': contexts,\n",
    "    'Question': questions,\n",
    "    'Answer': answers\n",
    "})"
   ]
  },
  {
   "cell_type": "code",
   "execution_count": 107,
   "id": "a0709927",
   "metadata": {},
   "outputs": [
    {
     "data": {
      "text/html": [
       "<div>\n",
       "<style scoped>\n",
       "    .dataframe tbody tr th:only-of-type {\n",
       "        vertical-align: middle;\n",
       "    }\n",
       "\n",
       "    .dataframe tbody tr th {\n",
       "        vertical-align: top;\n",
       "    }\n",
       "\n",
       "    .dataframe thead th {\n",
       "        text-align: right;\n",
       "    }\n",
       "</style>\n",
       "<table border=\"1\" class=\"dataframe\">\n",
       "  <thead>\n",
       "    <tr style=\"text-align: right;\">\n",
       "      <th></th>\n",
       "      <th>Context</th>\n",
       "      <th>Question</th>\n",
       "      <th>Answer</th>\n",
       "    </tr>\n",
       "  </thead>\n",
       "  <tbody>\n",
       "    <tr>\n",
       "      <th>0</th>\n",
       "      <td>## Future Developments For the latest information about developments related to Pub. 535, such as legislation enacted after it was published, go to _IRS.gov/Pub.535_.</td>\n",
       "      <td>What is the website where you can find the latest information about developments related to Pub. 535?</td>\n",
       "      <td>The website is _IRS.gov/Pub.535_.</td>\n",
       "    </tr>\n",
       "    <tr>\n",
       "      <th>1</th>\n",
       "      <td>## Capital Expenses You must capitalize, rather than deduct, some costs. These costs are a part of your investment in your business and are called 'capital expenses.' Capital expenses are considered assets in your business. In general, you capitalize three types of costs. * Business startup costs (see _Tip_ below). * Business assets. * Improvements. You can elect to deduct or amortize certain business startup costs. See chapters 7 and 8.</td>\n",
       "      <td>What are the three types of costs that businesses typically capitalize?</td>\n",
       "      <td>Business startup costs, business assets, and improvements.</td>\n",
       "    </tr>\n",
       "    <tr>\n",
       "      <th>2</th>\n",
       "      <td>### Cost recovery Although you generally cannot take a current deduction for a capital expense, you may be able to recover the amount you spend through deprecation, amortization, or depletion. These recovery methods allow you to deduct part of your cost each year. In this way, you are able to recover your capital expense. See _Amortization_ (chapter 8) and _Dealization_ (chapter 9) in this publication. A taxpayer can elect to deduct a portion of the costs of certain depreciable property as a section 179 deduction. A greater portion of these costs can be deducted if the property is qualified disaster assistance property. See Pub. 946 for details.</td>\n",
       "      <td>What are the three ways to recover the amount spent on a capital expense?</td>\n",
       "      <td>Depreciation, Amortization, and Depletion.</td>\n",
       "    </tr>\n",
       "    <tr>\n",
       "      <th>3</th>\n",
       "      <td>## Going Into Business The costs of getting started in business, before you actually begin business operations, are capital expenses. These costs may include expenses for advertising, travel, or wages for training employees. Capital expenses can be financed through loans from banks or other financial institutions.</td>\n",
       "      <td>What are capital expenses?</td>\n",
       "      <td>Costs that businesses incur to get started before they start making money.</td>\n",
       "    </tr>\n",
       "    <tr>\n",
       "      <th>4</th>\n",
       "      <td>### If you go into business When you go into business, treat all costs you had to get your business started as capital expenses. Usually, you recover costs for a particular asset through depreciation. Generally, you cannot recover other costs until you sell the business or otherwise go out of business. However, you can choose to amortize certain costs for setting up your business. See _Starting a Business in chapter 8_ for more information on business startup costs.</td>\n",
       "      <td>What should be treated as capital expenses when starting a business?</td>\n",
       "      <td>Costs that are necessary to start and run a business should be treated as capital expenses. These may include land, buildings, equipment, furniture, fixtures, and other assets used in the operation of the business. Additionally, any money spent on advertising, marketing, legal fees, and other professional services related to starting the business should also be considered capital expenses.</td>\n",
       "    </tr>\n",
       "    <tr>\n",
       "      <th>...</th>\n",
       "      <td>...</td>\n",
       "      <td>...</td>\n",
       "      <td>...</td>\n",
       "    </tr>\n",
       "    <tr>\n",
       "      <th>116</th>\n",
       "      <td>### Accountable Plans</td>\n",
       "      <td>What does an accountable plan require from its employees?</td>\n",
       "      <td>An accountable plan requires each employee to have paid or incurred deductible expenses while performing services as your employee, adequately account to you for these expenses within a reasonable period of time, and return any excess reimbursement or allowance within a reasonable period of time. Additionally, it requires that any advances made to employees be reasonably calculated not to exceed the amount of anticipated expenses and made within a reasonable period of time of their paying or incurring the expense. If expenses reimbursed under this arrangement aren't substantiated or an excess reimbursement isn't returned within a reasonable period of time by an employee, they cannot be treated as reimbursed under an accountable plan.</td>\n",
       "    </tr>\n",
       "    <tr>\n",
       "      <th>117</th>\n",
       "      <td>### Adequate accounting. Your employees must adequately account to you for their travel and non-entertainment-related meals expenses. They must give you documentary evidence of their travel, mileage, and other employee business expenses. This evidence should include items such as receipts, along with either a statement of expenses, an account book, a day planner, or similar record in which the employee entered each expense at or near the time the expense was incurred. The evidence should be kept by your employees for at least one year after the date of the expense.</td>\n",
       "      <td>What is adequate accounting when it comes to employee travel and meal expenses?</td>\n",
       "      <td>Adequate accounting requires that employees provide documentary evidence of their travel and non-entertainment related meals expenses, including receipts, along with either a statement of expenses, an account book, a day planner, or similar record in which the employee entered each expense at or near the time the expense was incurred. Employees must keep this evidence for at least one year after the date of the expense.</td>\n",
       "    </tr>\n",
       "    <tr>\n",
       "      <th>118</th>\n",
       "      <td>### Excess reimbursement or allowance. An excess reimbursement or allowance is any amount you pay to an employee that is more than the business-related expenses for which the employee adequately accounted. The employee must return any excess reimbursement or other expense allowance to you within a reasonable period of time. If the employee fails to do so, you may have to treat it as taxable income and report it on your Form W-2.</td>\n",
       "      <td>What happens if an employee fails to return excess reimbursement or allowance?</td>\n",
       "      <td>You may have to treat it as taxable income and report it on your Form W-2.</td>\n",
       "    </tr>\n",
       "    <tr>\n",
       "      <th>119</th>\n",
       "      <td>## The Taxpayer Advocate Service (TAS) Is Here To Help You With Your IRS Problems</td>\n",
       "      <td>What is the Taxpayer Advocate Service (TAS)?</td>\n",
       "      <td>The Taxpayer Advocate Service (TAS) is a free service provided by the Internal Revenue Service (IRS) to help taxpayers resolve their IRS problems.</td>\n",
       "    </tr>\n",
       "    <tr>\n",
       "      <th>120</th>\n",
       "      <td>### What Is TAS? TAS is an _Independent_ organization within the IRS that helps taxpayers and protects taxpayer rights. Their job is to ensure that every taxpayer is treated fairly and that you know and understand your rights under the _Taxpayer Bill of Rights_. They also help resolve disputes between taxpayers and the IRS.</td>\n",
       "      <td>What does TAS do?</td>\n",
       "      <td>TAS helps taxpayers and protects taxpayer rights by ensuring fair treatment and helping resolve disputes with the IRS.</td>\n",
       "    </tr>\n",
       "  </tbody>\n",
       "</table>\n",
       "<p>121 rows × 3 columns</p>\n",
       "</div>"
      ],
      "text/plain": [
       "                                                                                                                                                                                                                                                                                                                                                                                                                                                                                                                                                                                                                                                                           Context                                                                                               Question  \\\n",
       "0                                                                                                                                                                                                                                                                                                                                                                                                                                                                                                           ## Future Developments For the latest information about developments related to Pub. 535, such as legislation enacted after it was published, go to _IRS.gov/Pub.535_.  What is the website where you can find the latest information about developments related to Pub. 535?   \n",
       "1                                                                                                                                                                                                                        ## Capital Expenses You must capitalize, rather than deduct, some costs. These costs are a part of your investment in your business and are called 'capital expenses.' Capital expenses are considered assets in your business. In general, you capitalize three types of costs. * Business startup costs (see _Tip_ below). * Business assets. * Improvements. You can elect to deduct or amortize certain business startup costs. See chapters 7 and 8.                                What are the three types of costs that businesses typically capitalize?   \n",
       "2    ### Cost recovery Although you generally cannot take a current deduction for a capital expense, you may be able to recover the amount you spend through deprecation, amortization, or depletion. These recovery methods allow you to deduct part of your cost each year. In this way, you are able to recover your capital expense. See _Amortization_ (chapter 8) and _Dealization_ (chapter 9) in this publication. A taxpayer can elect to deduct a portion of the costs of certain depreciable property as a section 179 deduction. A greater portion of these costs can be deducted if the property is qualified disaster assistance property. See Pub. 946 for details.                              What are the three ways to recover the amount spent on a capital expense?   \n",
       "3                                                                                                                                                                                                                                                                                                                                                      ## Going Into Business The costs of getting started in business, before you actually begin business operations, are capital expenses. These costs may include expenses for advertising, travel, or wages for training employees. Capital expenses can be financed through loans from banks or other financial institutions.                                                                             What are capital expenses?   \n",
       "4                                                                                                                                                                                           ### If you go into business When you go into business, treat all costs you had to get your business started as capital expenses. Usually, you recover costs for a particular asset through depreciation. Generally, you cannot recover other costs until you sell the business or otherwise go out of business. However, you can choose to amortize certain costs for setting up your business. See _Starting a Business in chapter 8_ for more information on business startup costs.                                   What should be treated as capital expenses when starting a business?   \n",
       "..                                                                                                                                                                                                                                                                                                                                                                                                                                                                                                                                                                                                                                                                             ...                                                                                                    ...   \n",
       "116                                                                                                                                                                                                                                                                                                                                                                                                                                                                                                                                                                                                                                                          ### Accountable Plans                                              What does an accountable plan require from its employees?   \n",
       "117                                                                                    ### Adequate accounting. Your employees must adequately account to you for their travel and non-entertainment-related meals expenses. They must give you documentary evidence of their travel, mileage, and other employee business expenses. This evidence should include items such as receipts, along with either a statement of expenses, an account book, a day planner, or similar record in which the employee entered each expense at or near the time the expense was incurred. The evidence should be kept by your employees for at least one year after the date of the expense.                        What is adequate accounting when it comes to employee travel and meal expenses?   \n",
       "118                                                                                                                                                                                                                               ### Excess reimbursement or allowance. An excess reimbursement or allowance is any amount you pay to an employee that is more than the business-related expenses for which the employee adequately accounted. The employee must return any excess reimbursement or other expense allowance to you within a reasonable period of time. If the employee fails to do so, you may have to treat it as taxable income and report it on your Form W-2.                         What happens if an employee fails to return excess reimbursement or allowance?   \n",
       "119                                                                                                                                                                                                                                                                                                                                                                                                                                                                                                                                                                                              ## The Taxpayer Advocate Service (TAS) Is Here To Help You With Your IRS Problems                                                           What is the Taxpayer Advocate Service (TAS)?   \n",
       "120                                                                                                                                                                                                                                                                                                                                          ### What Is TAS? TAS is an _Independent_ organization within the IRS that helps taxpayers and protects taxpayer rights. Their job is to ensure that every taxpayer is treated fairly and that you know and understand your rights under the _Taxpayer Bill of Rights_. They also help resolve disputes between taxpayers and the IRS.                                                                                      What does TAS do?   \n",
       "\n",
       "                                                                                                                                                                                                                                                                                                                                                                                                                                                                                                                                                                                                                                                                                                                                                                      Answer  \n",
       "0                                                                                                                                                                                                                                                                                                                                                                                                                                                                                                                                                                                                                                                                                                                                          The website is _IRS.gov/Pub.535_.  \n",
       "1                                                                                                                                                                                                                                                                                                                                                                                                                                                                                                                                                                                                                                                                                                                 Business startup costs, business assets, and improvements.  \n",
       "2                                                                                                                                                                                                                                                                                                                                                                                                                                                                                                                                                                                                                                                                                                                                 Depreciation, Amortization, and Depletion.  \n",
       "3                                                                                                                                                                                                                                                                                                                                                                                                                                                                                                                                                                                                                                                                                                 Costs that businesses incur to get started before they start making money.  \n",
       "4                                                                                                                                                                                                                                                                                                                                                                   Costs that are necessary to start and run a business should be treated as capital expenses. These may include land, buildings, equipment, furniture, fixtures, and other assets used in the operation of the business. Additionally, any money spent on advertising, marketing, legal fees, and other professional services related to starting the business should also be considered capital expenses.  \n",
       "..                                                                                                                                                                                                                                                                                                                                                                                                                                                                                                                                                                                                                                                                                                                                                                       ...  \n",
       "116  An accountable plan requires each employee to have paid or incurred deductible expenses while performing services as your employee, adequately account to you for these expenses within a reasonable period of time, and return any excess reimbursement or allowance within a reasonable period of time. Additionally, it requires that any advances made to employees be reasonably calculated not to exceed the amount of anticipated expenses and made within a reasonable period of time of their paying or incurring the expense. If expenses reimbursed under this arrangement aren't substantiated or an excess reimbursement isn't returned within a reasonable period of time by an employee, they cannot be treated as reimbursed under an accountable plan.  \n",
       "117                                                                                                                                                                                                                                                                                                                                  Adequate accounting requires that employees provide documentary evidence of their travel and non-entertainment related meals expenses, including receipts, along with either a statement of expenses, an account book, a day planner, or similar record in which the employee entered each expense at or near the time the expense was incurred. Employees must keep this evidence for at least one year after the date of the expense.  \n",
       "118                                                                                                                                                                                                                                                                                                                                                                                                                                                                                                                                                                                                                                                                                               You may have to treat it as taxable income and report it on your Form W-2.  \n",
       "119                                                                                                                                                                                                                                                                                                                                                                                                                                                                                                                                                                                                                       The Taxpayer Advocate Service (TAS) is a free service provided by the Internal Revenue Service (IRS) to help taxpayers resolve their IRS problems.  \n",
       "120                                                                                                                                                                                                                                                                                                                                                                                                                                                                                                                                                                                                                                                   TAS helps taxpayers and protects taxpayer rights by ensuring fair treatment and helping resolve disputes with the IRS.  \n",
       "\n",
       "[121 rows x 3 columns]"
      ]
     },
     "execution_count": 107,
     "metadata": {},
     "output_type": "execute_result"
    }
   ],
   "source": [
    "df"
   ]
  },
  {
   "cell_type": "code",
   "execution_count": 126,
   "id": "513ca270",
   "metadata": {},
   "outputs": [
    {
     "data": {
      "text/html": [
       "<div>\n",
       "<style scoped>\n",
       "    .dataframe tbody tr th:only-of-type {\n",
       "        vertical-align: middle;\n",
       "    }\n",
       "\n",
       "    .dataframe tbody tr th {\n",
       "        vertical-align: top;\n",
       "    }\n",
       "\n",
       "    .dataframe thead th {\n",
       "        text-align: right;\n",
       "    }\n",
       "</style>\n",
       "<table border=\"1\" class=\"dataframe\">\n",
       "  <thead>\n",
       "    <tr style=\"text-align: right;\">\n",
       "      <th></th>\n",
       "      <th>Context</th>\n",
       "      <th>Question</th>\n",
       "      <th>Answer</th>\n",
       "    </tr>\n",
       "  </thead>\n",
       "  <tbody>\n",
       "    <tr>\n",
       "      <th>0</th>\n",
       "      <td>## Future Developments For the latest information about developments related to Pub. 535, such as legislation enacted after it was published, go to _IRS.gov/Pub.535_.</td>\n",
       "      <td>What is the website where you can find the latest information about developments related to Pub. 535?</td>\n",
       "      <td>The website is _IRS.gov/Pub.535_.</td>\n",
       "    </tr>\n",
       "    <tr>\n",
       "      <th>1</th>\n",
       "      <td>## Capital Expenses You must capitalize, rather than deduct, some costs. These costs are a part of your investment in your business and are called 'capital expenses.' Capital expenses are considered assets in your business. In general, you capitalize three types of costs. * Business startup costs (see _Tip_ below). * Business assets. * Improvements. You can elect to deduct or amortize certain business startup costs. See chapters 7 and 8.</td>\n",
       "      <td>What are the three types of costs that businesses typically capitalize?</td>\n",
       "      <td>Business startup costs, business assets, and improvements.</td>\n",
       "    </tr>\n",
       "    <tr>\n",
       "      <th>2</th>\n",
       "      <td>### Cost recovery Although you generally cannot take a current deduction for a capital expense, you may be able to recover the amount you spend through deprecation, amortization, or depletion. These recovery methods allow you to deduct part of your cost each year. In this way, you are able to recover your capital expense. See _Amortization_ (chapter 8) and _Dealization_ (chapter 9) in this publication. A taxpayer can elect to deduct a portion of the costs of certain depreciable property as a section 179 deduction. A greater portion of these costs can be deducted if the property is qualified disaster assistance property. See Pub. 946 for details.</td>\n",
       "      <td>What are the three ways to recover the amount spent on a capital expense?</td>\n",
       "      <td>Depreciation, Amortization, and Depletion.</td>\n",
       "    </tr>\n",
       "    <tr>\n",
       "      <th>3</th>\n",
       "      <td>## Going Into Business The costs of getting started in business, before you actually begin business operations, are capital expenses. These costs may include expenses for advertising, travel, or wages for training employees. Capital expenses can be financed through loans from banks or other financial institutions.</td>\n",
       "      <td>What are capital expenses?</td>\n",
       "      <td>Costs that businesses incur to get started before they start making money.</td>\n",
       "    </tr>\n",
       "    <tr>\n",
       "      <th>4</th>\n",
       "      <td>### If you go into business When you go into business, treat all costs you had to get your business started as capital expenses. Usually, you recover costs for a particular asset through depreciation. Generally, you cannot recover other costs until you sell the business or otherwise go out of business. However, you can choose to amortize certain costs for setting up your business. See _Starting a Business in chapter 8_ for more information on business startup costs.</td>\n",
       "      <td>What should be treated as capital expenses when starting a business?</td>\n",
       "      <td>Costs that are necessary to start and run a business should be treated as capital expenses. These may include land, buildings, equipment, furniture, fixtures, and other assets used in the operation of the business. Additionally, any money spent on advertising, marketing, legal fees, and other professional services related to starting the business should also be considered capital expenses.</td>\n",
       "    </tr>\n",
       "    <tr>\n",
       "      <th>...</th>\n",
       "      <td>...</td>\n",
       "      <td>...</td>\n",
       "      <td>...</td>\n",
       "    </tr>\n",
       "    <tr>\n",
       "      <th>115</th>\n",
       "      <td>### Reimbursers A \"reimbursement or allowance arrangement\" provides for payment of advances, reimbursments, and allowances for travel and non-entertainment-related meals expenses incurred by your employees during the ordinary course of business. If the expenses are substantiated, you can deduct the allowable amount on your tax return. Because of differences between accounting methods and tax law, the amount you can deduct for tax purposes may not be the same as the amount you deduct on your business books and records. For example, you can deduct 100% of the cost of meals on your business books and records. However, only 50% of these costs are allowed by law as a tax deduction.</td>\n",
       "      <td>What is a reimbursement or allowance arrangement?</td>\n",
       "      <td>A reimbursement or allowance arrangement provides for payment of advances, reimbursements, and allowances for travel and non-entertainment-related meals expenses incurred by your employees during the ordinary course of business.</td>\n",
       "    </tr>\n",
       "    <tr>\n",
       "      <th>117</th>\n",
       "      <td>### Adequate accounting. Your employees must adequately account to you for their travel and non-entertainment-related meals expenses. They must give you documentary evidence of their travel, mileage, and other employee business expenses. This evidence should include items such as receipts, along with either a statement of expenses, an account book, a day planner, or similar record in which the employee entered each expense at or near the time the expense was incurred. The evidence should be kept by your employees for at least one year after the date of the expense.</td>\n",
       "      <td>What is adequate accounting when it comes to employee travel and meal expenses?</td>\n",
       "      <td>Adequate accounting requires that employees provide documentary evidence of their travel and non-entertainment related meals expenses, including receipts, along with either a statement of expenses, an account book, a day planner, or similar record in which the employee entered each expense at or near the time the expense was incurred. Employees must keep this evidence for at least one year after the date of the expense.</td>\n",
       "    </tr>\n",
       "    <tr>\n",
       "      <th>118</th>\n",
       "      <td>### Excess reimbursement or allowance. An excess reimbursement or allowance is any amount you pay to an employee that is more than the business-related expenses for which the employee adequately accounted. The employee must return any excess reimbursement or other expense allowance to you within a reasonable period of time. If the employee fails to do so, you may have to treat it as taxable income and report it on your Form W-2.</td>\n",
       "      <td>What happens if an employee fails to return excess reimbursement or allowance?</td>\n",
       "      <td>You may have to treat it as taxable income and report it on your Form W-2.</td>\n",
       "    </tr>\n",
       "    <tr>\n",
       "      <th>119</th>\n",
       "      <td>## The Taxpayer Advocate Service (TAS) Is Here To Help You With Your IRS Problems</td>\n",
       "      <td>What is the Taxpayer Advocate Service (TAS)?</td>\n",
       "      <td>The Taxpayer Advocate Service (TAS) is a free service provided by the Internal Revenue Service (IRS) to help taxpayers resolve their IRS problems.</td>\n",
       "    </tr>\n",
       "    <tr>\n",
       "      <th>120</th>\n",
       "      <td>### What Is TAS? TAS is an _Independent_ organization within the IRS that helps taxpayers and protects taxpayer rights. Their job is to ensure that every taxpayer is treated fairly and that you know and understand your rights under the _Taxpayer Bill of Rights_. They also help resolve disputes between taxpayers and the IRS.</td>\n",
       "      <td>What does TAS do?</td>\n",
       "      <td>TAS helps taxpayers and protects taxpayer rights by ensuring fair treatment and helping resolve disputes with the IRS.</td>\n",
       "    </tr>\n",
       "  </tbody>\n",
       "</table>\n",
       "<p>103 rows × 3 columns</p>\n",
       "</div>"
      ],
      "text/plain": [
       "                                                                                                                                                                                                                                                                                                                                                                                                                                                                                                                                                                                                                                                                                                           Context                                                                                               Question  \\\n",
       "0                                                                                                                                                                                                                                                                                                                                                                                                                                                                                                                                           ## Future Developments For the latest information about developments related to Pub. 535, such as legislation enacted after it was published, go to _IRS.gov/Pub.535_.  What is the website where you can find the latest information about developments related to Pub. 535?   \n",
       "1                                                                                                                                                                                                                                                        ## Capital Expenses You must capitalize, rather than deduct, some costs. These costs are a part of your investment in your business and are called 'capital expenses.' Capital expenses are considered assets in your business. In general, you capitalize three types of costs. * Business startup costs (see _Tip_ below). * Business assets. * Improvements. You can elect to deduct or amortize certain business startup costs. See chapters 7 and 8.                                What are the three types of costs that businesses typically capitalize?   \n",
       "2                                    ### Cost recovery Although you generally cannot take a current deduction for a capital expense, you may be able to recover the amount you spend through deprecation, amortization, or depletion. These recovery methods allow you to deduct part of your cost each year. In this way, you are able to recover your capital expense. See _Amortization_ (chapter 8) and _Dealization_ (chapter 9) in this publication. A taxpayer can elect to deduct a portion of the costs of certain depreciable property as a section 179 deduction. A greater portion of these costs can be deducted if the property is qualified disaster assistance property. See Pub. 946 for details.                              What are the three ways to recover the amount spent on a capital expense?   \n",
       "3                                                                                                                                                                                                                                                                                                                                                                                      ## Going Into Business The costs of getting started in business, before you actually begin business operations, are capital expenses. These costs may include expenses for advertising, travel, or wages for training employees. Capital expenses can be financed through loans from banks or other financial institutions.                                                                             What are capital expenses?   \n",
       "4                                                                                                                                                                                                                           ### If you go into business When you go into business, treat all costs you had to get your business started as capital expenses. Usually, you recover costs for a particular asset through depreciation. Generally, you cannot recover other costs until you sell the business or otherwise go out of business. However, you can choose to amortize certain costs for setting up your business. See _Starting a Business in chapter 8_ for more information on business startup costs.                                   What should be treated as capital expenses when starting a business?   \n",
       "..                                                                                                                                                                                                                                                                                                                                                                                                                                                                                                                                                                                                                                                                                                             ...                                                                                                    ...   \n",
       "115  ### Reimbursers A \"reimbursement or allowance arrangement\" provides for payment of advances, reimbursments, and allowances for travel and non-entertainment-related meals expenses incurred by your employees during the ordinary course of business. If the expenses are substantiated, you can deduct the allowable amount on your tax return. Because of differences between accounting methods and tax law, the amount you can deduct for tax purposes may not be the same as the amount you deduct on your business books and records. For example, you can deduct 100% of the cost of meals on your business books and records. However, only 50% of these costs are allowed by law as a tax deduction.                                                      What is a reimbursement or allowance arrangement?   \n",
       "117                                                                                                                    ### Adequate accounting. Your employees must adequately account to you for their travel and non-entertainment-related meals expenses. They must give you documentary evidence of their travel, mileage, and other employee business expenses. This evidence should include items such as receipts, along with either a statement of expenses, an account book, a day planner, or similar record in which the employee entered each expense at or near the time the expense was incurred. The evidence should be kept by your employees for at least one year after the date of the expense.                        What is adequate accounting when it comes to employee travel and meal expenses?   \n",
       "118                                                                                                                                                                                                                                                               ### Excess reimbursement or allowance. An excess reimbursement or allowance is any amount you pay to an employee that is more than the business-related expenses for which the employee adequately accounted. The employee must return any excess reimbursement or other expense allowance to you within a reasonable period of time. If the employee fails to do so, you may have to treat it as taxable income and report it on your Form W-2.                         What happens if an employee fails to return excess reimbursement or allowance?   \n",
       "119                                                                                                                                                                                                                                                                                                                                                                                                                                                                                                                                                                                                                              ## The Taxpayer Advocate Service (TAS) Is Here To Help You With Your IRS Problems                                                           What is the Taxpayer Advocate Service (TAS)?   \n",
       "120                                                                                                                                                                                                                                                                                                                                                                          ### What Is TAS? TAS is an _Independent_ organization within the IRS that helps taxpayers and protects taxpayer rights. Their job is to ensure that every taxpayer is treated fairly and that you know and understand your rights under the _Taxpayer Bill of Rights_. They also help resolve disputes between taxpayers and the IRS.                                                                                      What does TAS do?   \n",
       "\n",
       "                                                                                                                                                                                                                                                                                                                                                                                                                                      Answer  \n",
       "0                                                                                                                                                                                                                                                                                                                                                                                                          The website is _IRS.gov/Pub.535_.  \n",
       "1                                                                                                                                                                                                                                                                                                                                                                                 Business startup costs, business assets, and improvements.  \n",
       "2                                                                                                                                                                                                                                                                                                                                                                                                 Depreciation, Amortization, and Depletion.  \n",
       "3                                                                                                                                                                                                                                                                                                                                                                 Costs that businesses incur to get started before they start making money.  \n",
       "4                                   Costs that are necessary to start and run a business should be treated as capital expenses. These may include land, buildings, equipment, furniture, fixtures, and other assets used in the operation of the business. Additionally, any money spent on advertising, marketing, legal fees, and other professional services related to starting the business should also be considered capital expenses.  \n",
       "..                                                                                                                                                                                                                                                                                                                                                                                                                                       ...  \n",
       "115                                                                                                                                                                                                     A reimbursement or allowance arrangement provides for payment of advances, reimbursements, and allowances for travel and non-entertainment-related meals expenses incurred by your employees during the ordinary course of business.  \n",
       "117  Adequate accounting requires that employees provide documentary evidence of their travel and non-entertainment related meals expenses, including receipts, along with either a statement of expenses, an account book, a day planner, or similar record in which the employee entered each expense at or near the time the expense was incurred. Employees must keep this evidence for at least one year after the date of the expense.  \n",
       "118                                                                                                                                                                                                                                                                                                                                                               You may have to treat it as taxable income and report it on your Form W-2.  \n",
       "119                                                                                                                                                                                                                                                                                       The Taxpayer Advocate Service (TAS) is a free service provided by the Internal Revenue Service (IRS) to help taxpayers resolve their IRS problems.  \n",
       "120                                                                                                                                                                                                                                                                                                                   TAS helps taxpayers and protects taxpayer rights by ensuring fair treatment and helping resolve disputes with the IRS.  \n",
       "\n",
       "[103 rows x 3 columns]"
      ]
     },
     "execution_count": 126,
     "metadata": {},
     "output_type": "execute_result"
    }
   ],
   "source": [
    "df_unique = df.drop_duplicates(subset=['Question', 'Answer'])\n",
    "df_unique"
   ]
  },
  {
   "cell_type": "code",
   "execution_count": 127,
   "id": "11462147",
   "metadata": {},
   "outputs": [],
   "source": [
    "output_df = df_unique[['Question', 'Answer']]\n",
    "\n",
    "output_dir = 'data/output'\n",
    "\n",
    "uniflow_output_path = f\"{output_dir}/new_irs_QApairs.csv\"\n",
    "\n",
    "if not os.path.exists(output_dir):\n",
    "    os.makedirs(output_dir)\n",
    "\n",
    "output_df.to_csv(uniflow_output_path, index=False)"
   ]
  }
 ],
 "metadata": {
  "kernelspec": {
   "display_name": "self-instruct-ft",
   "language": "python",
   "name": "python3"
  },
  "language_info": {
   "codemirror_mode": {
    "name": "ipython",
    "version": 3
   },
   "file_extension": ".py",
   "mimetype": "text/x-python",
   "name": "python",
   "nbconvert_exporter": "python",
   "pygments_lexer": "ipython3",
   "version": "3.10.13"
  }
 },
 "nbformat": 4,
 "nbformat_minor": 5
}
